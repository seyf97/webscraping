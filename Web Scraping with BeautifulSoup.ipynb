{
 "cells": [
  {
   "cell_type": "markdown",
   "id": "90ae6820",
   "metadata": {},
   "source": [
    "# Web Scraping an E-commerce website with Beautiful Soup"
   ]
  },
  {
   "cell_type": "markdown",
   "id": "47cf6c91",
   "metadata": {},
   "source": [
    "### "
   ]
  },
  {
   "cell_type": "markdown",
   "id": "6bce3089",
   "metadata": {},
   "source": [
    "## Step 1: Importing Libraries\n",
    "First we have to import BeautifulSoup from bs4 as well as the requests library to make an HTTP request using the URL.\n",
    "\n",
    "We also import some DS libraries to analyze the data later (optional)"
   ]
  },
  {
   "cell_type": "code",
   "execution_count": 1,
   "id": "1572b18e",
   "metadata": {},
   "outputs": [],
   "source": [
    "from bs4 import BeautifulSoup\n",
    "import requests\n",
    "\n",
    "import pandas as pd\n",
    "import seaborn as sns\n",
    "import matplotlib as plt\n"
   ]
  },
  {
   "cell_type": "markdown",
   "id": "93cb8059",
   "metadata": {},
   "source": [
    "### "
   ]
  },
  {
   "cell_type": "markdown",
   "id": "af279701",
   "metadata": {},
   "source": [
    "## Step 2: Extracting and Parsing the HTML Content\n",
    "Using the **get** method from the requests library, we obtain the raw html content of the webpage. \n",
    "\n",
    "This is a very long string which is quite difficult to work with, so we'll have to parse *(organize)* it.\n",
    "\n",
    "We use the **html5lib** parser and create a BeautifulSoup object. Now we have a neatly organized html structure.\n"
   ]
  },
  {
   "cell_type": "code",
   "execution_count": 2,
   "id": "4213be13",
   "metadata": {},
   "outputs": [],
   "source": [
    "# In this case, we'll see some headphones (casti = headphones in Romanian)\n",
    "URL=\"https://www.emag.ro/search/casti?ref=effective_search\"\n",
    "page = requests.get(URL)\n",
    "soup = BeautifulSoup(page.content, 'html5lib')"
   ]
  },
  {
   "cell_type": "markdown",
   "id": "1510592d",
   "metadata": {},
   "source": [
    "### "
   ]
  },
  {
   "cell_type": "markdown",
   "id": "9fd75248",
   "metadata": {},
   "source": [
    "## Step 3: Navigating in the HTML tree \n",
    "Now we'll navigate through the html tree to access the specific data we're looking for.\n",
    "\n",
    "First we'll scrape the cards of each product using the **findAll** method\n",
    "\n",
    "After that, we'll iterate through each card to find and store the name, price, num_of_reviews and rating using the **find** method\n"
   ]
  },
  {
   "cell_type": "code",
   "execution_count": 3,
   "id": "ec89f3e3",
   "metadata": {},
   "outputs": [],
   "source": [
    "cards = soup.findAll('div', attrs={\"class\", \"card-item card-standard js-product-data\"})\n",
    "\n",
    "l_names = []\n",
    "l_ratings = []\n",
    "l_reviews = []\n",
    "l_prices = []\n",
    "\n",
    "for card in cards:\n",
    "    # Finding the name\n",
    "    l_names.append(card.find('h2', attrs={'class', 'card-v2-title-wrapper'}).text.strip())\n",
    "    \n",
    "    # Finding the rating\n",
    "    # We get an AttributeError if the product doesn't have a rating, so we fill it with None\n",
    "    try:\n",
    "        l_ratings.append(float(card.find('span',attrs={\"class\", \"average-rating semibold\"}).text.strip()))\n",
    "    except AttributeError:\n",
    "        l_ratings.append(None)\n",
    "    \n",
    "    # Finding the number of reviews\n",
    "    # We get an AttributeError if the product doesn't have any reviews, so we fill it with 0\n",
    "    try:\n",
    "        l_reviews.append(int(card.find('span', attrs={'class', 'visible-xs-inline-block'}).text.strip()[1:-1]))\n",
    "    except AttributeError:\n",
    "        l_reviews.append(\"0\")\n",
    "        \n",
    "    # Finding the price\n",
    "    # The price is converted from a '###,###.## Lei' String to ''##.##' float\n",
    "    # First the commas and dots are erased, and the Lei part is erased\n",
    "    raw_price = card.find('p', attrs={'class', 'product-new-price'}).text.replace(\".\",\"\").replace(\",\",\"\").split(\"Lei\")[0].strip()\n",
    "    # Next, we stick the last 2 digits (bani) and the first digits with a dot in btw (to produce a float later on)\n",
    "    finalized_price = raw_price[:-2] + \".\" + raw_price[-2:]\n",
    "    l_prices.append(float(finalized_price))"
   ]
  },
  {
   "cell_type": "markdown",
   "id": "86e3729b",
   "metadata": {},
   "source": [
    "### "
   ]
  },
  {
   "cell_type": "markdown",
   "id": "a257be5f",
   "metadata": {},
   "source": [
    "## Step 4: Creating a pandas DataFrame and conducting EDA"
   ]
  },
  {
   "cell_type": "code",
   "execution_count": 4,
   "id": "c5bfda57",
   "metadata": {},
   "outputs": [],
   "source": [
    "# Creating a dictionary before creating a dataframe from our cleaned data\n",
    "dict_data = {\n",
    "    'name' : l_names,\n",
    "    'price' : l_prices,\n",
    "    'rating' : l_ratings,\n",
    "    'num_reviews' : l_reviews}\n",
    "\n",
    "df = pd.DataFrame(dict_data)"
   ]
  },
  {
   "cell_type": "code",
   "execution_count": 5,
   "id": "848a8624",
   "metadata": {},
   "outputs": [
    {
     "data": {
      "text/html": [
       "<div>\n",
       "<style scoped>\n",
       "    .dataframe tbody tr th:only-of-type {\n",
       "        vertical-align: middle;\n",
       "    }\n",
       "\n",
       "    .dataframe tbody tr th {\n",
       "        vertical-align: top;\n",
       "    }\n",
       "\n",
       "    .dataframe thead th {\n",
       "        text-align: right;\n",
       "    }\n",
       "</style>\n",
       "<table border=\"1\" class=\"dataframe\">\n",
       "  <thead>\n",
       "    <tr style=\"text-align: right;\">\n",
       "      <th></th>\n",
       "      <th>name</th>\n",
       "      <th>price</th>\n",
       "      <th>rating</th>\n",
       "      <th>num_reviews</th>\n",
       "    </tr>\n",
       "  </thead>\n",
       "  <tbody>\n",
       "    <tr>\n",
       "      <th>0</th>\n",
       "      <td>Casti TWS Stereo SeveShop, Wireless universale...</td>\n",
       "      <td>119.00</td>\n",
       "      <td>4.59</td>\n",
       "      <td>193</td>\n",
       "    </tr>\n",
       "    <tr>\n",
       "      <th>1</th>\n",
       "      <td>Casti cu microfon Apple EarPods, Lightning, White</td>\n",
       "      <td>84.69</td>\n",
       "      <td>4.22</td>\n",
       "      <td>268</td>\n",
       "    </tr>\n",
       "    <tr>\n",
       "      <th>2</th>\n",
       "      <td>Casti in-ear Samsung EO-IA500BBEGWW, Black</td>\n",
       "      <td>39.99</td>\n",
       "      <td>4.60</td>\n",
       "      <td>92</td>\n",
       "    </tr>\n",
       "    <tr>\n",
       "      <th>3</th>\n",
       "      <td>Casti Audio On Ear Sony MDR-ZX110B, Cu fir, Negru</td>\n",
       "      <td>59.99</td>\n",
       "      <td>4.39</td>\n",
       "      <td>405</td>\n",
       "    </tr>\n",
       "    <tr>\n",
       "      <th>4</th>\n",
       "      <td>Casti Apple Airpods Pro (2nd Generation) Carca...</td>\n",
       "      <td>1349.79</td>\n",
       "      <td>5.00</td>\n",
       "      <td>2</td>\n",
       "    </tr>\n",
       "  </tbody>\n",
       "</table>\n",
       "</div>"
      ],
      "text/plain": [
       "                                                name    price  rating  \\\n",
       "0  Casti TWS Stereo SeveShop, Wireless universale...   119.00    4.59   \n",
       "1  Casti cu microfon Apple EarPods, Lightning, White    84.69    4.22   \n",
       "2         Casti in-ear Samsung EO-IA500BBEGWW, Black    39.99    4.60   \n",
       "3  Casti Audio On Ear Sony MDR-ZX110B, Cu fir, Negru    59.99    4.39   \n",
       "4  Casti Apple Airpods Pro (2nd Generation) Carca...  1349.79    5.00   \n",
       "\n",
       "   num_reviews  \n",
       "0          193  \n",
       "1          268  \n",
       "2           92  \n",
       "3          405  \n",
       "4            2  "
      ]
     },
     "execution_count": 5,
     "metadata": {},
     "output_type": "execute_result"
    }
   ],
   "source": [
    "# Let's check out and see if the first 5 entries are the same with the website\n",
    "df.head(5)"
   ]
  },
  {
   "cell_type": "code",
   "execution_count": 6,
   "id": "8ce92dbd",
   "metadata": {},
   "outputs": [
    {
     "name": "stdout",
     "output_type": "stream",
     "text": [
      "<class 'pandas.core.frame.DataFrame'>\n",
      "RangeIndex: 60 entries, 0 to 59\n",
      "Data columns (total 4 columns):\n",
      " #   Column       Non-Null Count  Dtype  \n",
      "---  ------       --------------  -----  \n",
      " 0   name         60 non-null     object \n",
      " 1   price        60 non-null     float64\n",
      " 2   rating       60 non-null     float64\n",
      " 3   num_reviews  60 non-null     int64  \n",
      "dtypes: float64(2), int64(1), object(1)\n",
      "memory usage: 2.0+ KB\n"
     ]
    }
   ],
   "source": [
    "df.info()"
   ]
  },
  {
   "cell_type": "code",
   "execution_count": 7,
   "id": "a16976cb",
   "metadata": {},
   "outputs": [
    {
     "name": "stdout",
     "output_type": "stream",
     "text": [
      "There are 0 null values\n"
     ]
    }
   ],
   "source": [
    "# We can see that there aren't any null values, but another cool trick to directly see any null values:\n",
    "print(f\"There are {df.isna().sum().sum()} null values\")"
   ]
  },
  {
   "cell_type": "code",
   "execution_count": 8,
   "id": "6045b348",
   "metadata": {},
   "outputs": [
    {
     "data": {
      "text/plain": [
       "<seaborn.axisgrid.PairGrid at 0x290e3728fd0>"
      ]
     },
     "execution_count": 8,
     "metadata": {},
     "output_type": "execute_result"
    },
    {
     "data": {
      "image/png": "[encoded data removed]",
      "text/plain": [
       "<Figure size 540x540 with 12 Axes>"
      ]
     },
     "metadata": {
      "needs_background": "light"
     },
     "output_type": "display_data"
    }
   ],
   "source": [
    "# We fill the NaN reviews with 0 (as it has 0 reviews)\n",
    "df[\"num_reviews\"] = df[\"num_reviews\"].fillna(value=0).astype(\"int\")\n",
    "\n",
    "# We fill the NaN ratings with 0 as well\n",
    "df[\"rating\"] = df[\"rating\"].fillna(value=0)\n",
    "\n",
    "sns.pairplot(df)"
   ]
  },
  {
   "cell_type": "code",
   "execution_count": 9,
   "id": "2f264ac2",
   "metadata": {},
   "outputs": [
    {
     "data": {
      "text/html": [
       "<div>\n",
       "<style scoped>\n",
       "    .dataframe tbody tr th:only-of-type {\n",
       "        vertical-align: middle;\n",
       "    }\n",
       "\n",
       "    .dataframe tbody tr th {\n",
       "        vertical-align: top;\n",
       "    }\n",
       "\n",
       "    .dataframe thead th {\n",
       "        text-align: right;\n",
       "    }\n",
       "</style>\n",
       "<table border=\"1\" class=\"dataframe\">\n",
       "  <thead>\n",
       "    <tr style=\"text-align: right;\">\n",
       "      <th></th>\n",
       "      <th>price</th>\n",
       "      <th>rating</th>\n",
       "      <th>num_reviews</th>\n",
       "    </tr>\n",
       "  </thead>\n",
       "  <tbody>\n",
       "    <tr>\n",
       "      <th>count</th>\n",
       "      <td>60.000000</td>\n",
       "      <td>60.000000</td>\n",
       "      <td>60.00000</td>\n",
       "    </tr>\n",
       "    <tr>\n",
       "      <th>mean</th>\n",
       "      <td>266.427833</td>\n",
       "      <td>4.528000</td>\n",
       "      <td>195.55000</td>\n",
       "    </tr>\n",
       "    <tr>\n",
       "      <th>std</th>\n",
       "      <td>305.172051</td>\n",
       "      <td>0.402378</td>\n",
       "      <td>231.10284</td>\n",
       "    </tr>\n",
       "    <tr>\n",
       "      <th>min</th>\n",
       "      <td>39.990000</td>\n",
       "      <td>2.760000</td>\n",
       "      <td>1.00000</td>\n",
       "    </tr>\n",
       "    <tr>\n",
       "      <th>25%</th>\n",
       "      <td>99.980000</td>\n",
       "      <td>4.390000</td>\n",
       "      <td>65.25000</td>\n",
       "    </tr>\n",
       "    <tr>\n",
       "      <th>50%</th>\n",
       "      <td>188.615000</td>\n",
       "      <td>4.670000</td>\n",
       "      <td>128.50000</td>\n",
       "    </tr>\n",
       "    <tr>\n",
       "      <th>75%</th>\n",
       "      <td>222.975000</td>\n",
       "      <td>4.770000</td>\n",
       "      <td>293.25000</td>\n",
       "    </tr>\n",
       "    <tr>\n",
       "      <th>max</th>\n",
       "      <td>1349.790000</td>\n",
       "      <td>5.000000</td>\n",
       "      <td>1387.00000</td>\n",
       "    </tr>\n",
       "  </tbody>\n",
       "</table>\n",
       "</div>"
      ],
      "text/plain": [
       "             price     rating  num_reviews\n",
       "count    60.000000  60.000000     60.00000\n",
       "mean    266.427833   4.528000    195.55000\n",
       "std     305.172051   0.402378    231.10284\n",
       "min      39.990000   2.760000      1.00000\n",
       "25%      99.980000   4.390000     65.25000\n",
       "50%     188.615000   4.670000    128.50000\n",
       "75%     222.975000   4.770000    293.25000\n",
       "max    1349.790000   5.000000   1387.00000"
      ]
     },
     "execution_count": 9,
     "metadata": {},
     "output_type": "execute_result"
    }
   ],
   "source": [
    "df.describe()"
   ]
  },
  {
   "cell_type": "code",
   "execution_count": 10,
   "id": "d51ae3f4",
   "metadata": {
    "scrolled": true
   },
   "outputs": [
    {
     "data": {
      "text/plain": [
       "<AxesSubplot:>"
      ]
     },
     "execution_count": 10,
     "metadata": {},
     "output_type": "execute_result"
    },
    {
     "data": {
      "image/png": "[encoded data removed]",
      "text/plain": [
       "<Figure size 432x288 with 2 Axes>"
      ]
     },
     "metadata": {
      "needs_background": "light"
     },
     "output_type": "display_data"
    }
   ],
   "source": [
    "sns.heatmap(df.corr())"
   ]
  },
  {
   "cell_type": "markdown",
   "id": "63d019ca",
   "metadata": {},
   "source": [
    "### "
   ]
  },
  {
   "cell_type": "markdown",
   "id": "04e384bc",
   "metadata": {},
   "source": [
    "## Step 5: Filtering out the data\n",
    "In this final step we'd like to see the top products having certain attributes to make the best decision.\n"
   ]
  },
  {
   "cell_type": "code",
   "execution_count": 11,
   "id": "94044753",
   "metadata": {},
   "outputs": [
    {
     "name": "stdout",
     "output_type": "stream",
     "text": [
      "<class 'pandas.core.frame.DataFrame'>\n",
      "Int64Index: 19 entries, 7 to 59\n",
      "Data columns (total 4 columns):\n",
      " #   Column       Non-Null Count  Dtype  \n",
      "---  ------       --------------  -----  \n",
      " 0   name         19 non-null     object \n",
      " 1   price        19 non-null     float64\n",
      " 2   rating       19 non-null     float64\n",
      " 3   num_reviews  19 non-null     int32  \n",
      "dtypes: float64(2), int32(1), object(1)\n",
      "memory usage: 684.0+ bytes\n"
     ]
    }
   ],
   "source": [
    "df_final_choice = df[(df[\"num_reviews\"] > 10) & (df[\"price\"] > 50) & (df[\"rating\"] > 4.7)]\n",
    "df_final_choice.info()"
   ]
  },
  {
   "cell_type": "code",
   "execution_count": 12,
   "id": "b1d1fb00",
   "metadata": {},
   "outputs": [
    {
     "data": {
      "text/html": [
       "<div>\n",
       "<style scoped>\n",
       "    .dataframe tbody tr th:only-of-type {\n",
       "        vertical-align: middle;\n",
       "    }\n",
       "\n",
       "    .dataframe tbody tr th {\n",
       "        vertical-align: top;\n",
       "    }\n",
       "\n",
       "    .dataframe thead th {\n",
       "        text-align: right;\n",
       "    }\n",
       "</style>\n",
       "<table border=\"1\" class=\"dataframe\">\n",
       "  <thead>\n",
       "    <tr style=\"text-align: right;\">\n",
       "      <th></th>\n",
       "      <th>name</th>\n",
       "      <th>price</th>\n",
       "      <th>rating</th>\n",
       "      <th>num_reviews</th>\n",
       "    </tr>\n",
       "  </thead>\n",
       "  <tbody>\n",
       "    <tr>\n",
       "      <th>7</th>\n",
       "      <td>Casti Wireless Audio Xenomo® BEAT-X, fara fir,...</td>\n",
       "      <td>149.00</td>\n",
       "      <td>4.94</td>\n",
       "      <td>143</td>\n",
       "    </tr>\n",
       "    <tr>\n",
       "      <th>31</th>\n",
       "      <td>Casti Wireless fara fir Zennic® Sound Pro, Blu...</td>\n",
       "      <td>219.88</td>\n",
       "      <td>4.84</td>\n",
       "      <td>63</td>\n",
       "    </tr>\n",
       "    <tr>\n",
       "      <th>11</th>\n",
       "      <td>Casti Wireless fara fir Zennic® U-Sonic, Bluet...</td>\n",
       "      <td>209.88</td>\n",
       "      <td>4.81</td>\n",
       "      <td>88</td>\n",
       "    </tr>\n",
       "    <tr>\n",
       "      <th>17</th>\n",
       "      <td>Casti Apple Airpods Pro (2nd Generation) - 2022</td>\n",
       "      <td>1199.99</td>\n",
       "      <td>4.81</td>\n",
       "      <td>324</td>\n",
       "    </tr>\n",
       "    <tr>\n",
       "      <th>53</th>\n",
       "      <td>Casti wireless bluetooth, POKKOBUDS3, bluetoot...</td>\n",
       "      <td>201.11</td>\n",
       "      <td>4.78</td>\n",
       "      <td>134</td>\n",
       "    </tr>\n",
       "  </tbody>\n",
       "</table>\n",
       "</div>"
      ],
      "text/plain": [
       "                                                 name    price  rating  \\\n",
       "7   Casti Wireless Audio Xenomo® BEAT-X, fara fir,...   149.00    4.94   \n",
       "31  Casti Wireless fara fir Zennic® Sound Pro, Blu...   219.88    4.84   \n",
       "11  Casti Wireless fara fir Zennic® U-Sonic, Bluet...   209.88    4.81   \n",
       "17    Casti Apple Airpods Pro (2nd Generation) - 2022  1199.99    4.81   \n",
       "53  Casti wireless bluetooth, POKKOBUDS3, bluetoot...   201.11    4.78   \n",
       "\n",
       "    num_reviews  \n",
       "7           143  \n",
       "31           63  \n",
       "11           88  \n",
       "17          324  \n",
       "53          134  "
      ]
     },
     "execution_count": 12,
     "metadata": {},
     "output_type": "execute_result"
    }
   ],
   "source": [
    "df_final_choice.sort_values(by=[\"rating\"], ascending=False).head(5)"
   ]
  },
  {
   "cell_type": "markdown",
   "id": "42558cbd",
   "metadata": {},
   "source": [
    "## We can see that the top products with the highest ratings are Xenomo, Zennic and Apple (surprise surprise! :)"
   ]
  },
  {
   "cell_type": "markdown",
   "id": "47075c3e",
   "metadata": {},
   "source": [
    "Its interesting to see that the total reviews for the top 3 products are *still* lower than the reviews done for Apple Airpods. "
   ]
  }
 ],
 "metadata": {
  "kernelspec": {
   "display_name": "Python 3 (ipykernel)",
   "language": "python",
   "name": "python3"
  },
  "language_info": {
   "codemirror_mode": {
    "name": "ipython",
    "version": 3
   },
   "file_extension": ".py",
   "mimetype": "text/x-python",
   "name": "python",
   "nbconvert_exporter": "python",
   "pygments_lexer": "ipython3",
   "version": "3.9.7"
  }
 },
 "nbformat": 4,
 "nbformat_minor": 5
}
